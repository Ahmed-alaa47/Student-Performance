{
 "cells": [
  {
   "cell_type": "code",
   "execution_count": 1,
   "id": "6fc4568f",
   "metadata": {
    "_cell_guid": "b1076dfc-b9ad-4769-8c92-a6c4dae69d19",
    "_uuid": "8f2839f25d086af736a60e9eeb907d3b93b6e0e5",
    "execution": {
     "iopub.execute_input": "2025-08-01T23:33:43.681257Z",
     "iopub.status.busy": "2025-08-01T23:33:43.680781Z",
     "iopub.status.idle": "2025-08-01T23:33:45.784818Z",
     "shell.execute_reply": "2025-08-01T23:33:45.783317Z"
    },
    "papermill": {
     "duration": 2.113817,
     "end_time": "2025-08-01T23:33:45.786824",
     "exception": false,
     "start_time": "2025-08-01T23:33:43.673007",
     "status": "completed"
    },
    "tags": []
   },
   "outputs": [
    {
     "name": "stdout",
     "output_type": "stream",
     "text": [
      "/kaggle/input/student-performance-factors/StudentPerformanceFactors.csv\n"
     ]
    }
   ],
   "source": [
    "# This Python 3 environment comes with many helpful analytics libraries installed\n",
    "# It is defined by the kaggle/python Docker image: https://github.com/kaggle/docker-python\n",
    "# For example, here's several helpful packages to load\n",
    "\n",
    "import numpy as np # linear algebra\n",
    "import pandas as pd # data processing, CSV file I/O (e.g. pd.read_csv)\n",
    "\n",
    "# Input data files are available in the read-only \"../input/\" directory\n",
    "# For example, running this (by clicking run or pressing Shift+Enter) will list all files under the input directory\n",
    "\n",
    "import os\n",
    "for dirname, _, filenames in os.walk('/kaggle/input'):\n",
    "    for filename in filenames:\n",
    "        print(os.path.join(dirname, filename))\n",
    "\n",
    "# You can write up to 20GB to the current directory (/kaggle/working/) that gets preserved as output when you create a version using \"Save & Run All\" \n",
    "# You can also write temporary files to /kaggle/temp/, but they won't be saved outside of the current session"
   ]
  },
  {
   "cell_type": "code",
   "execution_count": 2,
   "id": "c3b1c8f8",
   "metadata": {
    "execution": {
     "iopub.execute_input": "2025-08-01T23:33:45.799399Z",
     "iopub.status.busy": "2025-08-01T23:33:45.798893Z",
     "iopub.status.idle": "2025-08-01T23:33:45.849529Z",
     "shell.execute_reply": "2025-08-01T23:33:45.848351Z"
    },
    "papermill": {
     "duration": 0.05898,
     "end_time": "2025-08-01T23:33:45.851407",
     "exception": false,
     "start_time": "2025-08-01T23:33:45.792427",
     "status": "completed"
    },
    "tags": []
   },
   "outputs": [],
   "source": [
    "df = pd.read_csv('/kaggle/input/student-performance-factors/StudentPerformanceFactors.csv')"
   ]
  },
  {
   "cell_type": "code",
   "execution_count": 3,
   "id": "5212d597",
   "metadata": {
    "execution": {
     "iopub.execute_input": "2025-08-01T23:33:45.862782Z",
     "iopub.status.busy": "2025-08-01T23:33:45.862483Z",
     "iopub.status.idle": "2025-08-01T23:33:45.892285Z",
     "shell.execute_reply": "2025-08-01T23:33:45.891227Z"
    },
    "papermill": {
     "duration": 0.037548,
     "end_time": "2025-08-01T23:33:45.894111",
     "exception": false,
     "start_time": "2025-08-01T23:33:45.856563",
     "status": "completed"
    },
    "tags": []
   },
   "outputs": [
    {
     "data": {
      "text/html": [
       "<div>\n",
       "<style scoped>\n",
       "    .dataframe tbody tr th:only-of-type {\n",
       "        vertical-align: middle;\n",
       "    }\n",
       "\n",
       "    .dataframe tbody tr th {\n",
       "        vertical-align: top;\n",
       "    }\n",
       "\n",
       "    .dataframe thead th {\n",
       "        text-align: right;\n",
       "    }\n",
       "</style>\n",
       "<table border=\"1\" class=\"dataframe\">\n",
       "  <thead>\n",
       "    <tr style=\"text-align: right;\">\n",
       "      <th></th>\n",
       "      <th>Hours_Studied</th>\n",
       "      <th>Attendance</th>\n",
       "      <th>Parental_Involvement</th>\n",
       "      <th>Access_to_Resources</th>\n",
       "      <th>Extracurricular_Activities</th>\n",
       "      <th>Sleep_Hours</th>\n",
       "      <th>Previous_Scores</th>\n",
       "      <th>Motivation_Level</th>\n",
       "      <th>Internet_Access</th>\n",
       "      <th>Tutoring_Sessions</th>\n",
       "      <th>Family_Income</th>\n",
       "      <th>Teacher_Quality</th>\n",
       "      <th>School_Type</th>\n",
       "      <th>Peer_Influence</th>\n",
       "      <th>Physical_Activity</th>\n",
       "      <th>Learning_Disabilities</th>\n",
       "      <th>Parental_Education_Level</th>\n",
       "      <th>Distance_from_Home</th>\n",
       "      <th>Gender</th>\n",
       "      <th>Exam_Score</th>\n",
       "    </tr>\n",
       "  </thead>\n",
       "  <tbody>\n",
       "    <tr>\n",
       "      <th>0</th>\n",
       "      <td>23</td>\n",
       "      <td>84</td>\n",
       "      <td>Low</td>\n",
       "      <td>High</td>\n",
       "      <td>No</td>\n",
       "      <td>7</td>\n",
       "      <td>73</td>\n",
       "      <td>Low</td>\n",
       "      <td>Yes</td>\n",
       "      <td>0</td>\n",
       "      <td>Low</td>\n",
       "      <td>Medium</td>\n",
       "      <td>Public</td>\n",
       "      <td>Positive</td>\n",
       "      <td>3</td>\n",
       "      <td>No</td>\n",
       "      <td>High School</td>\n",
       "      <td>Near</td>\n",
       "      <td>Male</td>\n",
       "      <td>67</td>\n",
       "    </tr>\n",
       "    <tr>\n",
       "      <th>1</th>\n",
       "      <td>19</td>\n",
       "      <td>64</td>\n",
       "      <td>Low</td>\n",
       "      <td>Medium</td>\n",
       "      <td>No</td>\n",
       "      <td>8</td>\n",
       "      <td>59</td>\n",
       "      <td>Low</td>\n",
       "      <td>Yes</td>\n",
       "      <td>2</td>\n",
       "      <td>Medium</td>\n",
       "      <td>Medium</td>\n",
       "      <td>Public</td>\n",
       "      <td>Negative</td>\n",
       "      <td>4</td>\n",
       "      <td>No</td>\n",
       "      <td>College</td>\n",
       "      <td>Moderate</td>\n",
       "      <td>Female</td>\n",
       "      <td>61</td>\n",
       "    </tr>\n",
       "    <tr>\n",
       "      <th>2</th>\n",
       "      <td>24</td>\n",
       "      <td>98</td>\n",
       "      <td>Medium</td>\n",
       "      <td>Medium</td>\n",
       "      <td>Yes</td>\n",
       "      <td>7</td>\n",
       "      <td>91</td>\n",
       "      <td>Medium</td>\n",
       "      <td>Yes</td>\n",
       "      <td>2</td>\n",
       "      <td>Medium</td>\n",
       "      <td>Medium</td>\n",
       "      <td>Public</td>\n",
       "      <td>Neutral</td>\n",
       "      <td>4</td>\n",
       "      <td>No</td>\n",
       "      <td>Postgraduate</td>\n",
       "      <td>Near</td>\n",
       "      <td>Male</td>\n",
       "      <td>74</td>\n",
       "    </tr>\n",
       "    <tr>\n",
       "      <th>3</th>\n",
       "      <td>29</td>\n",
       "      <td>89</td>\n",
       "      <td>Low</td>\n",
       "      <td>Medium</td>\n",
       "      <td>Yes</td>\n",
       "      <td>8</td>\n",
       "      <td>98</td>\n",
       "      <td>Medium</td>\n",
       "      <td>Yes</td>\n",
       "      <td>1</td>\n",
       "      <td>Medium</td>\n",
       "      <td>Medium</td>\n",
       "      <td>Public</td>\n",
       "      <td>Negative</td>\n",
       "      <td>4</td>\n",
       "      <td>No</td>\n",
       "      <td>High School</td>\n",
       "      <td>Moderate</td>\n",
       "      <td>Male</td>\n",
       "      <td>71</td>\n",
       "    </tr>\n",
       "    <tr>\n",
       "      <th>4</th>\n",
       "      <td>19</td>\n",
       "      <td>92</td>\n",
       "      <td>Medium</td>\n",
       "      <td>Medium</td>\n",
       "      <td>Yes</td>\n",
       "      <td>6</td>\n",
       "      <td>65</td>\n",
       "      <td>Medium</td>\n",
       "      <td>Yes</td>\n",
       "      <td>3</td>\n",
       "      <td>Medium</td>\n",
       "      <td>High</td>\n",
       "      <td>Public</td>\n",
       "      <td>Neutral</td>\n",
       "      <td>4</td>\n",
       "      <td>No</td>\n",
       "      <td>College</td>\n",
       "      <td>Near</td>\n",
       "      <td>Female</td>\n",
       "      <td>70</td>\n",
       "    </tr>\n",
       "  </tbody>\n",
       "</table>\n",
       "</div>"
      ],
      "text/plain": [
       "   Hours_Studied  Attendance Parental_Involvement Access_to_Resources  \\\n",
       "0             23          84                  Low                High   \n",
       "1             19          64                  Low              Medium   \n",
       "2             24          98               Medium              Medium   \n",
       "3             29          89                  Low              Medium   \n",
       "4             19          92               Medium              Medium   \n",
       "\n",
       "  Extracurricular_Activities  Sleep_Hours  Previous_Scores Motivation_Level  \\\n",
       "0                         No            7               73              Low   \n",
       "1                         No            8               59              Low   \n",
       "2                        Yes            7               91           Medium   \n",
       "3                        Yes            8               98           Medium   \n",
       "4                        Yes            6               65           Medium   \n",
       "\n",
       "  Internet_Access  Tutoring_Sessions Family_Income Teacher_Quality  \\\n",
       "0             Yes                  0           Low          Medium   \n",
       "1             Yes                  2        Medium          Medium   \n",
       "2             Yes                  2        Medium          Medium   \n",
       "3             Yes                  1        Medium          Medium   \n",
       "4             Yes                  3        Medium            High   \n",
       "\n",
       "  School_Type Peer_Influence  Physical_Activity Learning_Disabilities  \\\n",
       "0      Public       Positive                  3                    No   \n",
       "1      Public       Negative                  4                    No   \n",
       "2      Public        Neutral                  4                    No   \n",
       "3      Public       Negative                  4                    No   \n",
       "4      Public        Neutral                  4                    No   \n",
       "\n",
       "  Parental_Education_Level Distance_from_Home  Gender  Exam_Score  \n",
       "0              High School               Near    Male          67  \n",
       "1                  College           Moderate  Female          61  \n",
       "2             Postgraduate               Near    Male          74  \n",
       "3              High School           Moderate    Male          71  \n",
       "4                  College               Near  Female          70  "
      ]
     },
     "execution_count": 3,
     "metadata": {},
     "output_type": "execute_result"
    }
   ],
   "source": [
    "df.head()"
   ]
  },
  {
   "cell_type": "code",
   "execution_count": 4,
   "id": "e04ee30e",
   "metadata": {
    "execution": {
     "iopub.execute_input": "2025-08-01T23:33:45.905574Z",
     "iopub.status.busy": "2025-08-01T23:33:45.905235Z",
     "iopub.status.idle": "2025-08-01T23:33:45.911661Z",
     "shell.execute_reply": "2025-08-01T23:33:45.910613Z"
    },
    "papermill": {
     "duration": 0.013883,
     "end_time": "2025-08-01T23:33:45.913212",
     "exception": false,
     "start_time": "2025-08-01T23:33:45.899329",
     "status": "completed"
    },
    "tags": []
   },
   "outputs": [
    {
     "data": {
      "text/plain": [
       "(6607, 20)"
      ]
     },
     "execution_count": 4,
     "metadata": {},
     "output_type": "execute_result"
    }
   ],
   "source": [
    "df.shape"
   ]
  },
  {
   "cell_type": "code",
   "execution_count": 5,
   "id": "209701e3",
   "metadata": {
    "execution": {
     "iopub.execute_input": "2025-08-01T23:33:45.924542Z",
     "iopub.status.busy": "2025-08-01T23:33:45.924214Z",
     "iopub.status.idle": "2025-08-01T23:33:45.955012Z",
     "shell.execute_reply": "2025-08-01T23:33:45.953806Z"
    },
    "papermill": {
     "duration": 0.038713,
     "end_time": "2025-08-01T23:33:45.957032",
     "exception": false,
     "start_time": "2025-08-01T23:33:45.918319",
     "status": "completed"
    },
    "tags": []
   },
   "outputs": [
    {
     "name": "stdout",
     "output_type": "stream",
     "text": [
      "<class 'pandas.core.frame.DataFrame'>\n",
      "RangeIndex: 6607 entries, 0 to 6606\n",
      "Data columns (total 20 columns):\n",
      " #   Column                      Non-Null Count  Dtype \n",
      "---  ------                      --------------  ----- \n",
      " 0   Hours_Studied               6607 non-null   int64 \n",
      " 1   Attendance                  6607 non-null   int64 \n",
      " 2   Parental_Involvement        6607 non-null   object\n",
      " 3   Access_to_Resources         6607 non-null   object\n",
      " 4   Extracurricular_Activities  6607 non-null   object\n",
      " 5   Sleep_Hours                 6607 non-null   int64 \n",
      " 6   Previous_Scores             6607 non-null   int64 \n",
      " 7   Motivation_Level            6607 non-null   object\n",
      " 8   Internet_Access             6607 non-null   object\n",
      " 9   Tutoring_Sessions           6607 non-null   int64 \n",
      " 10  Family_Income               6607 non-null   object\n",
      " 11  Teacher_Quality             6529 non-null   object\n",
      " 12  School_Type                 6607 non-null   object\n",
      " 13  Peer_Influence              6607 non-null   object\n",
      " 14  Physical_Activity           6607 non-null   int64 \n",
      " 15  Learning_Disabilities       6607 non-null   object\n",
      " 16  Parental_Education_Level    6517 non-null   object\n",
      " 17  Distance_from_Home          6540 non-null   object\n",
      " 18  Gender                      6607 non-null   object\n",
      " 19  Exam_Score                  6607 non-null   int64 \n",
      "dtypes: int64(7), object(13)\n",
      "memory usage: 1.0+ MB\n"
     ]
    }
   ],
   "source": [
    "df.info()"
   ]
  },
  {
   "cell_type": "code",
   "execution_count": 6,
   "id": "7eaf70b8",
   "metadata": {
    "execution": {
     "iopub.execute_input": "2025-08-01T23:33:45.969227Z",
     "iopub.status.busy": "2025-08-01T23:33:45.968951Z",
     "iopub.status.idle": "2025-08-01T23:33:45.981220Z",
     "shell.execute_reply": "2025-08-01T23:33:45.980200Z"
    },
    "papermill": {
     "duration": 0.020174,
     "end_time": "2025-08-01T23:33:45.982858",
     "exception": false,
     "start_time": "2025-08-01T23:33:45.962684",
     "status": "completed"
    },
    "tags": []
   },
   "outputs": [
    {
     "data": {
      "text/plain": [
       "Hours_Studied                  0\n",
       "Attendance                     0\n",
       "Parental_Involvement           0\n",
       "Access_to_Resources            0\n",
       "Extracurricular_Activities     0\n",
       "Sleep_Hours                    0\n",
       "Previous_Scores                0\n",
       "Motivation_Level               0\n",
       "Internet_Access                0\n",
       "Tutoring_Sessions              0\n",
       "Family_Income                  0\n",
       "Teacher_Quality               78\n",
       "School_Type                    0\n",
       "Peer_Influence                 0\n",
       "Physical_Activity              0\n",
       "Learning_Disabilities          0\n",
       "Parental_Education_Level      90\n",
       "Distance_from_Home            67\n",
       "Gender                         0\n",
       "Exam_Score                     0\n",
       "dtype: int64"
      ]
     },
     "execution_count": 6,
     "metadata": {},
     "output_type": "execute_result"
    }
   ],
   "source": [
    "df.isnull().sum()"
   ]
  },
  {
   "cell_type": "code",
   "execution_count": 7,
   "id": "31bd7dc3",
   "metadata": {
    "execution": {
     "iopub.execute_input": "2025-08-01T23:33:45.995047Z",
     "iopub.status.busy": "2025-08-01T23:33:45.994676Z",
     "iopub.status.idle": "2025-08-01T23:33:46.016174Z",
     "shell.execute_reply": "2025-08-01T23:33:46.015168Z"
    },
    "papermill": {
     "duration": 0.029858,
     "end_time": "2025-08-01T23:33:46.018062",
     "exception": false,
     "start_time": "2025-08-01T23:33:45.988204",
     "status": "completed"
    },
    "tags": []
   },
   "outputs": [
    {
     "data": {
      "text/plain": [
       "Hours_Studied                 0\n",
       "Attendance                    0\n",
       "Parental_Involvement          0\n",
       "Access_to_Resources           0\n",
       "Extracurricular_Activities    0\n",
       "Sleep_Hours                   0\n",
       "Previous_Scores               0\n",
       "Motivation_Level              0\n",
       "Internet_Access               0\n",
       "Tutoring_Sessions             0\n",
       "Family_Income                 0\n",
       "School_Type                   0\n",
       "Peer_Influence                0\n",
       "Physical_Activity             0\n",
       "Learning_Disabilities         0\n",
       "Gender                        0\n",
       "Exam_Score                    0\n",
       "dtype: int64"
      ]
     },
     "execution_count": 7,
     "metadata": {},
     "output_type": "execute_result"
    }
   ],
   "source": [
    "df = df.dropna(axis = 1)\n",
    "\n",
    "df.isnull().sum()"
   ]
  },
  {
   "cell_type": "markdown",
   "id": "beb354ba",
   "metadata": {
    "papermill": {
     "duration": 0.005073,
     "end_time": "2025-08-01T23:33:46.029095",
     "exception": false,
     "start_time": "2025-08-01T23:33:46.024022",
     "status": "completed"
    },
    "tags": []
   },
   "source": [
    "**By looking to data columns we can detect that [Previous_Scores , Family_Income , Physical_Activity , Gender] have no effect on the final grade**"
   ]
  },
  {
   "cell_type": "code",
   "execution_count": 8,
   "id": "f439b40b",
   "metadata": {
    "execution": {
     "iopub.execute_input": "2025-08-01T23:33:46.040648Z",
     "iopub.status.busy": "2025-08-01T23:33:46.040242Z",
     "iopub.status.idle": "2025-08-01T23:33:46.047309Z",
     "shell.execute_reply": "2025-08-01T23:33:46.046248Z"
    },
    "papermill": {
     "duration": 0.015072,
     "end_time": "2025-08-01T23:33:46.049320",
     "exception": false,
     "start_time": "2025-08-01T23:33:46.034248",
     "status": "completed"
    },
    "tags": []
   },
   "outputs": [],
   "source": [
    "df = df.drop(columns = ['Previous_Scores' , 'Family_Income' , 'Physical_Activity' , 'Gender'] , axis = 1)"
   ]
  },
  {
   "cell_type": "code",
   "execution_count": 9,
   "id": "d079e2c3",
   "metadata": {
    "execution": {
     "iopub.execute_input": "2025-08-01T23:33:46.061151Z",
     "iopub.status.busy": "2025-08-01T23:33:46.060878Z",
     "iopub.status.idle": "2025-08-01T23:33:46.068388Z",
     "shell.execute_reply": "2025-08-01T23:33:46.067584Z"
    },
    "papermill": {
     "duration": 0.015224,
     "end_time": "2025-08-01T23:33:46.070084",
     "exception": false,
     "start_time": "2025-08-01T23:33:46.054860",
     "status": "completed"
    },
    "tags": []
   },
   "outputs": [
    {
     "data": {
      "text/plain": [
       "['Parental_Involvement',\n",
       " 'Access_to_Resources',\n",
       " 'Extracurricular_Activities',\n",
       " 'Motivation_Level',\n",
       " 'Internet_Access',\n",
       " 'School_Type',\n",
       " 'Peer_Influence',\n",
       " 'Learning_Disabilities']"
      ]
     },
     "execution_count": 9,
     "metadata": {},
     "output_type": "execute_result"
    }
   ],
   "source": [
    "cat_cols = []\n",
    "\n",
    "for col in df.columns:\n",
    "    if df[col].dtypes == 'object':\n",
    "        cat_cols.append(col)\n",
    "        \n",
    "cat_cols"
   ]
  },
  {
   "cell_type": "code",
   "execution_count": 10,
   "id": "2c08a881",
   "metadata": {
    "execution": {
     "iopub.execute_input": "2025-08-01T23:33:46.082271Z",
     "iopub.status.busy": "2025-08-01T23:33:46.081910Z",
     "iopub.status.idle": "2025-08-01T23:33:46.098610Z",
     "shell.execute_reply": "2025-08-01T23:33:46.097166Z"
    },
    "papermill": {
     "duration": 0.024682,
     "end_time": "2025-08-01T23:33:46.100201",
     "exception": false,
     "start_time": "2025-08-01T23:33:46.075519",
     "status": "completed"
    },
    "tags": []
   },
   "outputs": [
    {
     "name": "stdout",
     "output_type": "stream",
     "text": [
      "Parental_Involvement\n",
      "Medium    3362\n",
      "High      1908\n",
      "Low       1337\n",
      "Name: count, dtype: int64\n",
      "----------------------\n",
      "Access_to_Resources\n",
      "Medium    3319\n",
      "High      1975\n",
      "Low       1313\n",
      "Name: count, dtype: int64\n",
      "----------------------\n",
      "Extracurricular_Activities\n",
      "Yes    3938\n",
      "No     2669\n",
      "Name: count, dtype: int64\n",
      "----------------------\n",
      "Motivation_Level\n",
      "Medium    3351\n",
      "Low       1937\n",
      "High      1319\n",
      "Name: count, dtype: int64\n",
      "----------------------\n",
      "Internet_Access\n",
      "Yes    6108\n",
      "No      499\n",
      "Name: count, dtype: int64\n",
      "----------------------\n",
      "School_Type\n",
      "Public     4598\n",
      "Private    2009\n",
      "Name: count, dtype: int64\n",
      "----------------------\n",
      "Peer_Influence\n",
      "Positive    2638\n",
      "Neutral     2592\n",
      "Negative    1377\n",
      "Name: count, dtype: int64\n",
      "----------------------\n",
      "Learning_Disabilities\n",
      "No     5912\n",
      "Yes     695\n",
      "Name: count, dtype: int64\n",
      "----------------------\n"
     ]
    }
   ],
   "source": [
    "for e in cat_cols:\n",
    "    print(df[e].value_counts())\n",
    "    print('----------------------')"
   ]
  },
  {
   "cell_type": "code",
   "execution_count": 11,
   "id": "9fae4fe1",
   "metadata": {
    "execution": {
     "iopub.execute_input": "2025-08-01T23:33:46.112860Z",
     "iopub.status.busy": "2025-08-01T23:33:46.112491Z",
     "iopub.status.idle": "2025-08-01T23:33:46.134179Z",
     "shell.execute_reply": "2025-08-01T23:33:46.133021Z"
    },
    "papermill": {
     "duration": 0.030325,
     "end_time": "2025-08-01T23:33:46.136029",
     "exception": false,
     "start_time": "2025-08-01T23:33:46.105704",
     "status": "completed"
    },
    "tags": []
   },
   "outputs": [
    {
     "name": "stderr",
     "output_type": "stream",
     "text": [
      "/tmp/ipykernel_13/3503693923.py:1: FutureWarning: Downcasting behavior in `replace` is deprecated and will be removed in a future version. To retain the old behavior, explicitly call `result.infer_objects(copy=False)`. To opt-in to the future behavior, set `pd.set_option('future.no_silent_downcasting', True)`\n",
      "  df['Extracurricular_Activities'] = df['Extracurricular_Activities'].replace({'Yes':1 , 'No':0}).astype(int)\n",
      "/tmp/ipykernel_13/3503693923.py:2: FutureWarning: Downcasting behavior in `replace` is deprecated and will be removed in a future version. To retain the old behavior, explicitly call `result.infer_objects(copy=False)`. To opt-in to the future behavior, set `pd.set_option('future.no_silent_downcasting', True)`\n",
      "  df['Internet_Access'] = df['Internet_Access'].replace({'Yes':1 , 'No':0}).astype(int)\n",
      "/tmp/ipykernel_13/3503693923.py:3: FutureWarning: Downcasting behavior in `replace` is deprecated and will be removed in a future version. To retain the old behavior, explicitly call `result.infer_objects(copy=False)`. To opt-in to the future behavior, set `pd.set_option('future.no_silent_downcasting', True)`\n",
      "  df['School_Type'] = df['School_Type'].replace({'Public':1 , 'Private':0}).astype(int)\n",
      "/tmp/ipykernel_13/3503693923.py:4: FutureWarning: Downcasting behavior in `replace` is deprecated and will be removed in a future version. To retain the old behavior, explicitly call `result.infer_objects(copy=False)`. To opt-in to the future behavior, set `pd.set_option('future.no_silent_downcasting', True)`\n",
      "  df['Learning_Disabilities'] = df['Learning_Disabilities'].replace({'Yes':1 , 'No':0}).astype(int)\n"
     ]
    }
   ],
   "source": [
    "df['Extracurricular_Activities'] = df['Extracurricular_Activities'].replace({'Yes':1 , 'No':0}).astype(int)\n",
    "df['Internet_Access'] = df['Internet_Access'].replace({'Yes':1 , 'No':0}).astype(int)\n",
    "df['School_Type'] = df['School_Type'].replace({'Public':1 , 'Private':0}).astype(int)\n",
    "df['Learning_Disabilities'] = df['Learning_Disabilities'].replace({'Yes':1 , 'No':0}).astype(int)"
   ]
  },
  {
   "cell_type": "code",
   "execution_count": 12,
   "id": "38ee7308",
   "metadata": {
    "execution": {
     "iopub.execute_input": "2025-08-01T23:33:46.149285Z",
     "iopub.status.busy": "2025-08-01T23:33:46.148863Z",
     "iopub.status.idle": "2025-08-01T23:33:47.664568Z",
     "shell.execute_reply": "2025-08-01T23:33:47.663359Z"
    },
    "papermill": {
     "duration": 1.524265,
     "end_time": "2025-08-01T23:33:47.666361",
     "exception": false,
     "start_time": "2025-08-01T23:33:46.142096",
     "status": "completed"
    },
    "tags": []
   },
   "outputs": [],
   "source": [
    "from sklearn.preprocessing import LabelEncoder\n",
    "\n",
    "\n",
    "multi_class_columns = [\n",
    "    'Parental_Involvement',\n",
    "    'Access_to_Resources',\n",
    "    'Motivation_Level',\n",
    "    'Peer_Influence'\n",
    "]\n",
    "\n",
    "le = LabelEncoder()\n",
    "\n",
    "for col in multi_class_columns:\n",
    "    df[col] = le.fit_transform(df[col])"
   ]
  },
  {
   "cell_type": "code",
   "execution_count": 13,
   "id": "8bd30688",
   "metadata": {
    "execution": {
     "iopub.execute_input": "2025-08-01T23:33:47.681823Z",
     "iopub.status.busy": "2025-08-01T23:33:47.680520Z",
     "iopub.status.idle": "2025-08-01T23:33:47.693546Z",
     "shell.execute_reply": "2025-08-01T23:33:47.692468Z"
    },
    "papermill": {
     "duration": 0.02187,
     "end_time": "2025-08-01T23:33:47.694891",
     "exception": false,
     "start_time": "2025-08-01T23:33:47.673021",
     "status": "completed"
    },
    "tags": []
   },
   "outputs": [
    {
     "data": {
      "text/html": [
       "<div>\n",
       "<style scoped>\n",
       "    .dataframe tbody tr th:only-of-type {\n",
       "        vertical-align: middle;\n",
       "    }\n",
       "\n",
       "    .dataframe tbody tr th {\n",
       "        vertical-align: top;\n",
       "    }\n",
       "\n",
       "    .dataframe thead th {\n",
       "        text-align: right;\n",
       "    }\n",
       "</style>\n",
       "<table border=\"1\" class=\"dataframe\">\n",
       "  <thead>\n",
       "    <tr style=\"text-align: right;\">\n",
       "      <th></th>\n",
       "      <th>Hours_Studied</th>\n",
       "      <th>Attendance</th>\n",
       "      <th>Parental_Involvement</th>\n",
       "      <th>Access_to_Resources</th>\n",
       "      <th>Extracurricular_Activities</th>\n",
       "      <th>Sleep_Hours</th>\n",
       "      <th>Motivation_Level</th>\n",
       "      <th>Internet_Access</th>\n",
       "      <th>Tutoring_Sessions</th>\n",
       "      <th>School_Type</th>\n",
       "      <th>Peer_Influence</th>\n",
       "      <th>Learning_Disabilities</th>\n",
       "      <th>Exam_Score</th>\n",
       "    </tr>\n",
       "  </thead>\n",
       "  <tbody>\n",
       "    <tr>\n",
       "      <th>0</th>\n",
       "      <td>23</td>\n",
       "      <td>84</td>\n",
       "      <td>1</td>\n",
       "      <td>0</td>\n",
       "      <td>0</td>\n",
       "      <td>7</td>\n",
       "      <td>1</td>\n",
       "      <td>1</td>\n",
       "      <td>0</td>\n",
       "      <td>1</td>\n",
       "      <td>2</td>\n",
       "      <td>0</td>\n",
       "      <td>67</td>\n",
       "    </tr>\n",
       "    <tr>\n",
       "      <th>1</th>\n",
       "      <td>19</td>\n",
       "      <td>64</td>\n",
       "      <td>1</td>\n",
       "      <td>2</td>\n",
       "      <td>0</td>\n",
       "      <td>8</td>\n",
       "      <td>1</td>\n",
       "      <td>1</td>\n",
       "      <td>2</td>\n",
       "      <td>1</td>\n",
       "      <td>0</td>\n",
       "      <td>0</td>\n",
       "      <td>61</td>\n",
       "    </tr>\n",
       "    <tr>\n",
       "      <th>2</th>\n",
       "      <td>24</td>\n",
       "      <td>98</td>\n",
       "      <td>2</td>\n",
       "      <td>2</td>\n",
       "      <td>1</td>\n",
       "      <td>7</td>\n",
       "      <td>2</td>\n",
       "      <td>1</td>\n",
       "      <td>2</td>\n",
       "      <td>1</td>\n",
       "      <td>1</td>\n",
       "      <td>0</td>\n",
       "      <td>74</td>\n",
       "    </tr>\n",
       "    <tr>\n",
       "      <th>3</th>\n",
       "      <td>29</td>\n",
       "      <td>89</td>\n",
       "      <td>1</td>\n",
       "      <td>2</td>\n",
       "      <td>1</td>\n",
       "      <td>8</td>\n",
       "      <td>2</td>\n",
       "      <td>1</td>\n",
       "      <td>1</td>\n",
       "      <td>1</td>\n",
       "      <td>0</td>\n",
       "      <td>0</td>\n",
       "      <td>71</td>\n",
       "    </tr>\n",
       "    <tr>\n",
       "      <th>4</th>\n",
       "      <td>19</td>\n",
       "      <td>92</td>\n",
       "      <td>2</td>\n",
       "      <td>2</td>\n",
       "      <td>1</td>\n",
       "      <td>6</td>\n",
       "      <td>2</td>\n",
       "      <td>1</td>\n",
       "      <td>3</td>\n",
       "      <td>1</td>\n",
       "      <td>1</td>\n",
       "      <td>0</td>\n",
       "      <td>70</td>\n",
       "    </tr>\n",
       "  </tbody>\n",
       "</table>\n",
       "</div>"
      ],
      "text/plain": [
       "   Hours_Studied  Attendance  Parental_Involvement  Access_to_Resources  \\\n",
       "0             23          84                     1                    0   \n",
       "1             19          64                     1                    2   \n",
       "2             24          98                     2                    2   \n",
       "3             29          89                     1                    2   \n",
       "4             19          92                     2                    2   \n",
       "\n",
       "   Extracurricular_Activities  Sleep_Hours  Motivation_Level  Internet_Access  \\\n",
       "0                           0            7                 1                1   \n",
       "1                           0            8                 1                1   \n",
       "2                           1            7                 2                1   \n",
       "3                           1            8                 2                1   \n",
       "4                           1            6                 2                1   \n",
       "\n",
       "   Tutoring_Sessions  School_Type  Peer_Influence  Learning_Disabilities  \\\n",
       "0                  0            1               2                      0   \n",
       "1                  2            1               0                      0   \n",
       "2                  2            1               1                      0   \n",
       "3                  1            1               0                      0   \n",
       "4                  3            1               1                      0   \n",
       "\n",
       "   Exam_Score  \n",
       "0          67  \n",
       "1          61  \n",
       "2          74  \n",
       "3          71  \n",
       "4          70  "
      ]
     },
     "execution_count": 13,
     "metadata": {},
     "output_type": "execute_result"
    }
   ],
   "source": [
    "df.head()"
   ]
  },
  {
   "cell_type": "code",
   "execution_count": 14,
   "id": "41b3ff70",
   "metadata": {
    "execution": {
     "iopub.execute_input": "2025-08-01T23:33:47.708371Z",
     "iopub.status.busy": "2025-08-01T23:33:47.707411Z",
     "iopub.status.idle": "2025-08-01T23:33:48.003053Z",
     "shell.execute_reply": "2025-08-01T23:33:48.001921Z"
    },
    "papermill": {
     "duration": 0.304486,
     "end_time": "2025-08-01T23:33:48.005114",
     "exception": false,
     "start_time": "2025-08-01T23:33:47.700628",
     "status": "completed"
    },
    "tags": []
   },
   "outputs": [
    {
     "data": {
      "text/plain": [
       "(array([  68., 1384., 2906., 2019.,  175.,   16.,   11.,    7.,   11.,\n",
       "          10.]),\n",
       " array([ 55. ,  59.6,  64.2,  68.8,  73.4,  78. ,  82.6,  87.2,  91.8,\n",
       "         96.4, 101. ]),\n",
       " <BarContainer object of 10 artists>)"
      ]
     },
     "execution_count": 14,
     "metadata": {},
     "output_type": "execute_result"
    },
    {
     "data": {
      "image/png": "[encoded data removed]",
      "text/plain": [
       "<Figure size 640x480 with 1 Axes>"
      ]
     },
     "metadata": {},
     "output_type": "display_data"
    }
   ],
   "source": [
    "import matplotlib.pyplot as plt\n",
    "\n",
    "plt.hist(x = 'Exam_Score' , data = df)"
   ]
  },
  {
   "cell_type": "code",
   "execution_count": 15,
   "id": "c5fc683e",
   "metadata": {
    "execution": {
     "iopub.execute_input": "2025-08-01T23:33:48.022157Z",
     "iopub.status.busy": "2025-08-01T23:33:48.020968Z",
     "iopub.status.idle": "2025-08-01T23:33:48.031489Z",
     "shell.execute_reply": "2025-08-01T23:33:48.030384Z"
    },
    "papermill": {
     "duration": 0.020145,
     "end_time": "2025-08-01T23:33:48.033167",
     "exception": false,
     "start_time": "2025-08-01T23:33:48.013022",
     "status": "completed"
    },
    "tags": []
   },
   "outputs": [],
   "source": [
    "Q1 = df['Exam_Score'].quantile(0.25)\n",
    "Q3 = df['Exam_Score'].quantile(0.75)\n",
    "IQR = Q3 - Q1\n",
    "\n",
    "lower_bound = Q1 - 2 * IQR\n",
    "upper_bound = Q3 + 2 * IQR"
   ]
  },
  {
   "cell_type": "code",
   "execution_count": 16,
   "id": "2f81ec1e",
   "metadata": {
    "execution": {
     "iopub.execute_input": "2025-08-01T23:33:48.046975Z",
     "iopub.status.busy": "2025-08-01T23:33:48.046606Z",
     "iopub.status.idle": "2025-08-01T23:33:48.057977Z",
     "shell.execute_reply": "2025-08-01T23:33:48.056426Z"
    },
    "papermill": {
     "duration": 0.020787,
     "end_time": "2025-08-01T23:33:48.060193",
     "exception": false,
     "start_time": "2025-08-01T23:33:48.039406",
     "status": "completed"
    },
    "tags": []
   },
   "outputs": [],
   "source": [
    "df_no_outliers = df[(df['Exam_Score'] > lower_bound) & (df['Exam_Score'] <= upper_bound)]"
   ]
  },
  {
   "cell_type": "code",
   "execution_count": 17,
   "id": "80adaf80",
   "metadata": {
    "execution": {
     "iopub.execute_input": "2025-08-01T23:33:48.075112Z",
     "iopub.status.busy": "2025-08-01T23:33:48.074682Z",
     "iopub.status.idle": "2025-08-01T23:33:48.281593Z",
     "shell.execute_reply": "2025-08-01T23:33:48.280426Z"
    },
    "papermill": {
     "duration": 0.216097,
     "end_time": "2025-08-01T23:33:48.283092",
     "exception": false,
     "start_time": "2025-08-01T23:33:48.066995",
     "status": "completed"
    },
    "tags": []
   },
   "outputs": [
    {
     "data": {
      "text/plain": [
       "(array([  62.,  248.,  635., 1180., 1468., 1383.,  950.,  445.,  154.,\n",
       "          21.]),\n",
       " array([58. , 59.9, 61.8, 63.7, 65.6, 67.5, 69.4, 71.3, 73.2, 75.1, 77. ]),\n",
       " <BarContainer object of 10 artists>)"
      ]
     },
     "execution_count": 17,
     "metadata": {},
     "output_type": "execute_result"
    },
    {
     "data": {
      "image/png": "[encoded data removed]",
      "text/plain": [
       "<Figure size 640x480 with 1 Axes>"
      ]
     },
     "metadata": {},
     "output_type": "display_data"
    }
   ],
   "source": [
    "plt.hist(x = 'Exam_Score' , data = df_no_outliers)"
   ]
  },
  {
   "cell_type": "code",
   "execution_count": 18,
   "id": "3f51259a",
   "metadata": {
    "execution": {
     "iopub.execute_input": "2025-08-01T23:33:48.297730Z",
     "iopub.status.busy": "2025-08-01T23:33:48.297323Z",
     "iopub.status.idle": "2025-08-01T23:33:48.305090Z",
     "shell.execute_reply": "2025-08-01T23:33:48.303935Z"
    },
    "papermill": {
     "duration": 0.017171,
     "end_time": "2025-08-01T23:33:48.306884",
     "exception": false,
     "start_time": "2025-08-01T23:33:48.289713",
     "status": "completed"
    },
    "tags": []
   },
   "outputs": [],
   "source": [
    "X = df_no_outliers.drop('Exam_Score' , axis = 1)\n",
    "y = df_no_outliers['Exam_Score']"
   ]
  },
  {
   "cell_type": "code",
   "execution_count": 19,
   "id": "c7bf8c2f",
   "metadata": {
    "execution": {
     "iopub.execute_input": "2025-08-01T23:33:48.321006Z",
     "iopub.status.busy": "2025-08-01T23:33:48.320688Z",
     "iopub.status.idle": "2025-08-01T23:33:48.444157Z",
     "shell.execute_reply": "2025-08-01T23:33:48.443125Z"
    },
    "papermill": {
     "duration": 0.132654,
     "end_time": "2025-08-01T23:33:48.445869",
     "exception": false,
     "start_time": "2025-08-01T23:33:48.313215",
     "status": "completed"
    },
    "tags": []
   },
   "outputs": [],
   "source": [
    "from sklearn.model_selection import train_test_split\n",
    "\n",
    "X_train, X_test, y_train, y_test = train_test_split(X , y , test_size = 0.2 , random_state = 42)"
   ]
  },
  {
   "cell_type": "code",
   "execution_count": 20,
   "id": "a0af87ee",
   "metadata": {
    "execution": {
     "iopub.execute_input": "2025-08-01T23:33:48.460432Z",
     "iopub.status.busy": "2025-08-01T23:33:48.459605Z",
     "iopub.status.idle": "2025-08-01T23:33:48.465812Z",
     "shell.execute_reply": "2025-08-01T23:33:48.464744Z"
    },
    "papermill": {
     "duration": 0.015175,
     "end_time": "2025-08-01T23:33:48.467560",
     "exception": false,
     "start_time": "2025-08-01T23:33:48.452385",
     "status": "completed"
    },
    "tags": []
   },
   "outputs": [
    {
     "name": "stdout",
     "output_type": "stream",
     "text": [
      "X_train shape = (5236, 12) / X_test shape = (1310, 12) / y_train shape = (5236,) / y_test shape = (1310,)\n"
     ]
    }
   ],
   "source": [
    "print(f'X_train shape = {X_train.shape} / X_test shape = {X_test.shape} / y_train shape = {y_train.shape} / y_test shape = {y_test.shape}') "
   ]
  },
  {
   "cell_type": "code",
   "execution_count": 21,
   "id": "671370d2",
   "metadata": {
    "execution": {
     "iopub.execute_input": "2025-08-01T23:33:48.482893Z",
     "iopub.status.busy": "2025-08-01T23:33:48.482536Z",
     "iopub.status.idle": "2025-08-01T23:33:48.519067Z",
     "shell.execute_reply": "2025-08-01T23:33:48.518111Z"
    },
    "papermill": {
     "duration": 0.04639,
     "end_time": "2025-08-01T23:33:48.521002",
     "exception": false,
     "start_time": "2025-08-01T23:33:48.474612",
     "status": "completed"
    },
    "tags": []
   },
   "outputs": [],
   "source": [
    "from sklearn.preprocessing import StandardScaler\n",
    "\n",
    "\n",
    "scaler = StandardScaler()\n",
    "\n",
    "\n",
    "X_train = scaler.fit_transform(X_train)\n",
    "X_test = scaler.transform(X_test)"
   ]
  },
  {
   "cell_type": "code",
   "execution_count": 22,
   "id": "f1fb85d9",
   "metadata": {
    "execution": {
     "iopub.execute_input": "2025-08-01T23:33:48.536217Z",
     "iopub.status.busy": "2025-08-01T23:33:48.535845Z",
     "iopub.status.idle": "2025-08-01T23:33:48.667990Z",
     "shell.execute_reply": "2025-08-01T23:33:48.666856Z"
    },
    "papermill": {
     "duration": 0.141867,
     "end_time": "2025-08-01T23:33:48.669906",
     "exception": false,
     "start_time": "2025-08-01T23:33:48.528039",
     "status": "completed"
    },
    "tags": []
   },
   "outputs": [],
   "source": [
    "from sklearn.linear_model import LinearRegression\n",
    "\n",
    "lr = LinearRegression()\n",
    "lr.fit(X_train , y_train)\n",
    "\n",
    "prediction = lr.predict(X_test)"
   ]
  },
  {
   "cell_type": "code",
   "execution_count": 23,
   "id": "a790abfb",
   "metadata": {
    "execution": {
     "iopub.execute_input": "2025-08-01T23:33:48.685791Z",
     "iopub.status.busy": "2025-08-01T23:33:48.685387Z",
     "iopub.status.idle": "2025-08-01T23:33:48.694496Z",
     "shell.execute_reply": "2025-08-01T23:33:48.693513Z"
    },
    "papermill": {
     "duration": 0.019369,
     "end_time": "2025-08-01T23:33:48.696409",
     "exception": false,
     "start_time": "2025-08-01T23:33:48.677040",
     "status": "completed"
    },
    "tags": []
   },
   "outputs": [
    {
     "name": "stdout",
     "output_type": "stream",
     "text": [
      "Mean Squared Error: 1.99\n",
      "R^2 Score: 0.82\n"
     ]
    }
   ],
   "source": [
    "from sklearn.metrics import mean_squared_error, r2_score\n",
    "\n",
    "mse = mean_squared_error(y_test, prediction)\n",
    "r2 = r2_score(y_test, prediction)\n",
    "\n",
    "print(f\"Mean Squared Error: {mse:.2f}\")\n",
    "print(f\"R^2 Score: {r2:.2f}\")"
   ]
  },
  {
   "cell_type": "code",
   "execution_count": 24,
   "id": "1e8a174c",
   "metadata": {
    "execution": {
     "iopub.execute_input": "2025-08-01T23:33:48.711487Z",
     "iopub.status.busy": "2025-08-01T23:33:48.711104Z",
     "iopub.status.idle": "2025-08-01T23:33:49.822093Z",
     "shell.execute_reply": "2025-08-01T23:33:49.821089Z"
    },
    "papermill": {
     "duration": 1.120662,
     "end_time": "2025-08-01T23:33:49.823783",
     "exception": false,
     "start_time": "2025-08-01T23:33:48.703121",
     "status": "completed"
    },
    "tags": []
   },
   "outputs": [
    {
     "data": {
      "text/plain": [
       "<Axes: xlabel='Exam_Score'>"
      ]
     },
     "execution_count": 24,
     "metadata": {},
     "output_type": "execute_result"
    },
    {
     "data": {
      "image/png": "[encoded data removed]",
      "text/plain": [
       "<Figure size 640x480 with 1 Axes>"
      ]
     },
     "metadata": {},
     "output_type": "display_data"
    }
   ],
   "source": [
    "import seaborn as sns\n",
    "sns.regplot(data = df_no_outliers , x = y_test , y = prediction , scatter=True, fit_reg=True)"
   ]
  },
  {
   "cell_type": "code",
   "execution_count": 25,
   "id": "9f2819af",
   "metadata": {
    "execution": {
     "iopub.execute_input": "2025-08-01T23:33:49.841563Z",
     "iopub.status.busy": "2025-08-01T23:33:49.840430Z",
     "iopub.status.idle": "2025-08-01T23:33:49.918734Z",
     "shell.execute_reply": "2025-08-01T23:33:49.916604Z"
    },
    "papermill": {
     "duration": 0.089101,
     "end_time": "2025-08-01T23:33:49.920899",
     "exception": false,
     "start_time": "2025-08-01T23:33:49.831798",
     "status": "completed"
    },
    "tags": []
   },
   "outputs": [
    {
     "name": "stdout",
     "output_type": "stream",
     "text": [
      "R² Score (Polynomial Degree 2): 0.8940039897904328\n"
     ]
    }
   ],
   "source": [
    "from sklearn.preprocessing import PolynomialFeatures\n",
    "\n",
    "poly = PolynomialFeatures(degree=2)\n",
    "X_train_poly = poly.fit_transform(X_train)\n",
    "X_test_poly = poly.transform(X_test)\n",
    "\n",
    "poly_model = LinearRegression()\n",
    "poly_model.fit(X_train_poly, y_train)\n",
    "\n",
    "y_pred_poly = poly_model.predict(X_test_poly)\n",
    "\n",
    "print(\"R² Score (Polynomial Degree 2):\", r2_score(y_test, y_pred_poly))"
   ]
  },
  {
   "cell_type": "code",
   "execution_count": null,
   "id": "32e85f8d",
   "metadata": {
    "papermill": {
     "duration": 0.01208,
     "end_time": "2025-08-01T23:33:49.945721",
     "exception": false,
     "start_time": "2025-08-01T23:33:49.933641",
     "status": "completed"
    },
    "tags": []
   },
   "outputs": [],
   "source": []
  }
 ],
 "metadata": {
  "kaggle": {
   "accelerator": "none",
   "dataSources": [
    {
     "datasetId": 5630996,
     "sourceId": 10020238,
     "sourceType": "datasetVersion"
    }
   ],
   "dockerImageVersionId": 31089,
   "isGpuEnabled": false,
   "isInternetEnabled": true,
   "language": "python",
   "sourceType": "notebook"
  },
  "kernelspec": {
   "display_name": "Python 3",
   "language": "python",
   "name": "python3"
  },
  "language_info": {
   "codemirror_mode": {
    "name": "ipython",
    "version": 3
   },
   "file_extension": ".py",
   "mimetype": "text/x-python",
   "name": "python",
   "nbconvert_exporter": "python",
   "pygments_lexer": "ipython3",
   "version": "3.11.13"
  },
  "papermill": {
   "default_parameters": {},
   "duration": 13.325117,
   "end_time": "2025-08-01T23:33:50.678103",
   "environment_variables": {},
   "exception": null,
   "input_path": "__notebook__.ipynb",
   "output_path": "__notebook__.ipynb",
   "parameters": {},
   "start_time": "2025-08-01T23:33:37.352986",
   "version": "2.6.0"
  }
 },
 "nbformat": 4,
 "nbformat_minor": 5
}
